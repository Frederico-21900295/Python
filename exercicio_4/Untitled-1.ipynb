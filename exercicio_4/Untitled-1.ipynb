{
 "metadata": {
  "language_info": {
   "codemirror_mode": {
    "name": "ipython",
    "version": 3
   },
   "file_extension": ".py",
   "mimetype": "text/x-python",
   "name": "python",
   "nbconvert_exporter": "python",
   "pygments_lexer": "ipython3",
   "version": "3.9.4"
  },
  "orig_nbformat": 2,
  "kernelspec": {
   "name": "python394jvsc74a57bd0aee8b7b246df8f9039afb4144a1f6fd8d2ca17a180786b69acc140d282b71a49",
   "display_name": "Python 3.9.4 64-bit"
  },
  "metadata": {
   "interpreter": {
    "hash": "aee8b7b246df8f9039afb4144a1f6fd8d2ca17a180786b69acc140d282b71a49"
   }
  }
 },
 "nbformat": 4,
 "nbformat_minor": 2,
 "cells": [
  {
   "cell_type": "code",
   "execution_count": 158,
   "metadata": {},
   "outputs": [],
   "source": [
    "class Automovel:  #defenicao da classe\n",
    "        def __init__(self,cap_dep,quant_comb,consumo):\n",
    "            self.cap_dep = cap_dep\n",
    "            self.quant_comb = quant_comb\n",
    "            self.consumo = consumo\n",
    "\n",
    "\n",
    "        def combustivel(self):\n",
    "            return print(self.quant_comb)\n",
    "\n",
    "        def autonomia(self):\n",
    "            return print(int((self.quant_comb * 100)/ self.consumo ))\n",
    "\n",
    "        def abastece(self,tonomia):\n",
    "            self.tonomia = tonomia\n",
    "            if self.quant_comb > self.cap_dep:\n",
    "                print(\"Erro\")\n",
    "            else:\n",
    "                self.tonomia +=  self.quant_comb\n",
    "                self.tonomia = ((self.tonomia * 100)/ self.consumo)\n",
    "                print(int(self.tonomia))\n",
    "\n",
    "        def percorre(self,distancia):\n",
    "            self.distancia = distancia\n",
    "            if self.distancia > self.tonomia:\n",
    "                print(\"Erro\")\n",
    "\n",
    "            else:\n",
    "                self.tonomia -= self.distancia\n",
    "                print(int(self.tonomia))\n",
    "\n",
    "\n"
   ]
  },
  {
   "cell_type": "code",
   "execution_count": 159,
   "metadata": {},
   "outputs": [],
   "source": [
    "a1 = Automovel(60,10,15)"
   ]
  },
  {
   "cell_type": "code",
   "execution_count": 160,
   "metadata": {},
   "outputs": [
    {
     "output_type": "stream",
     "name": "stdout",
     "text": [
      "66\n"
     ]
    }
   ],
   "source": [
    "a1.autonomia()"
   ]
  },
  {
   "cell_type": "code",
   "execution_count": 161,
   "metadata": {},
   "outputs": [
    {
     "output_type": "stream",
     "name": "stdout",
     "text": [
      "366\n"
     ]
    }
   ],
   "source": [
    "a1.abastece(45)"
   ]
  },
  {
   "cell_type": "code",
   "execution_count": 162,
   "metadata": {},
   "outputs": [
    {
     "output_type": "stream",
     "name": "stdout",
     "text": [
      "216\n"
     ]
    }
   ],
   "source": [
    "a1.percorre(150)"
   ]
  },
  {
   "cell_type": "code",
   "execution_count": 163,
   "metadata": {},
   "outputs": [
    {
     "output_type": "stream",
     "name": "stdout",
     "text": [
      "Erro\n"
     ]
    }
   ],
   "source": [
    "a1.percorre(250)"
   ]
  },
  {
   "cell_type": "code",
   "execution_count": null,
   "metadata": {},
   "outputs": [],
   "source": []
  }
 ]
}